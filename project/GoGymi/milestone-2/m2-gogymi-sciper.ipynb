{
 "cells": [
  {
   "cell_type": "markdown",
   "metadata": {},
   "source": [
    "# M2 | Exploration Notebook (GoGymi)\n",
    "\n",
    "In this notebook, you will do a first exploration of the data set that you will use for your project. One part of this exploration is guided, i.e. we will ask you to solve specific questions (task 1-3). The other part is open, i.e. we will ask you to come up with your own exploration ideas (task 4).\n",
    "\n",
    "Please upload your solved notebook to Moodle (under Milestone 2 Submission) adding your SCIPER number in title, example: `m2-gogymi-456392.ipynb`"
   ]
  },
  {
   "cell_type": "markdown",
   "metadata": {},
   "source": [
    "## Brief Overview of GoGymi\n",
    "\n",
    "GoGymi is a platform helping students to prepare for the gymnasium exam in Switzerland.\n",
    "\n",
    "The platform includes four main aspects:\n",
    "\n",
    "- Personal AI tutor: an always-available chat-based intelligent digital learning companion\n",
    "\n",
    "- AI-based essay correction: detailed feedback on student-submitted essays for improvement and correction\n",
    "\n",
    "- Exercises and solutions: prepare for the exam by practicing sample question from the previous years\n",
    "\n",
    "- Learning analytics: detailed analysis of students' learning activities and their readiness for the exam"
   ]
  },
  {
   "cell_type": "markdown",
   "metadata": {},
   "source": [
    "For the guided part of the exploration we will focus on two main tables:\n",
    "\n",
    "- `math_results.csv`\n",
    "\n",
    "- `essay_results.csv`\n",
    "\n",
    "You can find the data description [here](https://docs.google.com/document/d/1FaREVWEZpa-vD3IGzn9M_AiYOXFlBo3jNlFuKvbLMco/edit?usp=sharing)."
   ]
  },
  {
   "cell_type": "markdown",
   "metadata": {},
   "source": [
    "## Task 0: Load the Data"
   ]
  },
  {
   "cell_type": "code",
   "execution_count": null,
   "metadata": {},
   "outputs": [],
   "source": [
    "# Imports to start with\n",
    "\n",
    "import numpy as np\n",
    "import pandas as pd\n",
    "import matplotlib.pyplot as plt\n",
    "\n",
    "DATA_DIR = '.' # you might need to change the directory\n",
    "\n",
    "math_results = pd.read_csv('{}/math_results.csv'.format(DATA_DIR))\n",
    "essay_results = pd.read_csv('{}/essay_results.csv'.format(DATA_DIR))"
   ]
  },
  {
   "cell_type": "markdown",
   "metadata": {},
   "source": [
    "# Task 1: Simple Statistics\n",
    "\n",
    "In this task you are asked to do a first coarse exploration of the data set, usi?ng simple statistics and visualizations."
   ]
  },
  {
   "cell_type": "markdown",
   "metadata": {},
   "source": [
    "### A) How many distinct users do we have in each of the math and essay results submissions?"
   ]
  },
  {
   "cell_type": "code",
   "execution_count": null,
   "metadata": {},
   "outputs": [],
   "source": [
    "# Your code goes here"
   ]
  },
  {
   "cell_type": "markdown",
   "metadata": {},
   "source": [
    "### B) What is the distrubution of the number of words of the essays submitted by the students? Provide a suitable visualization and discuss your finding."
   ]
  },
  {
   "cell_type": "code",
   "execution_count": null,
   "metadata": {},
   "outputs": [],
   "source": [
    "# Your code goes here"
   ]
  },
  {
   "cell_type": "markdown",
   "metadata": {},
   "source": [
    "### C) How many submission attempts have been done by each user in the math and essay results datasets? Please provide a plot visualization (showing both math and essay dataset results next to each other) and discuss the distribution. Which plot do you think is the most appropriate for this task, and why?"
   ]
  },
  {
   "cell_type": "code",
   "execution_count": null,
   "metadata": {
    "vscode": {
     "languageId": "ruby"
    }
   },
   "outputs": [],
   "source": [
    "# Your code goes here"
   ]
  },
  {
   "cell_type": "markdown",
   "metadata": {},
   "source": [
    "Your explanation goes here"
   ]
  },
  {
   "cell_type": "markdown",
   "metadata": {},
   "source": [
    "## Task 2: Static Analysis\n",
    "\n",
    "In this second task, you will do univariate and multivariate explorations of some of the features of the dataset."
   ]
  },
  {
   "cell_type": "markdown",
   "metadata": {},
   "source": [
    "### A) Build a dataframe containing one row per user:\n",
    "\n",
    "`[user_id, average_point_math_absolute, average_point_math_relative, average_structure_coherence_absolute, average_structure_coherence_relative]`\n",
    "\n",
    "The features are defined as follows:\n",
    "\n",
    "- `user_id`: The ID of the user, who should be both in the math and essay results datasets.\n",
    "\n",
    "- `average_point_math_absolute`: The average of the `points` for the user from the math results dataset.\n",
    "\n",
    "- `average_point_math_relative`: The average of the relative points for the user from the math results dataset, that is, the average of the values of `points / max_points`.\n",
    "\n",
    "- `average_structure_coherence_absolute`: The average of the `structure_coherence` for the user from the essay results dataset.\n",
    "\n",
    "- `average_structure_coherence_relative`: The average of the relative structure coherence for the user from the essay results dataset, that is, the average of the values of `structure_coherence / max_structure_coherence` where `max_structure_coherence` is the maximum value of `structure_coherence` for ALL users in the dataset.\n",
    "\n",
    "Hint 1: you need to conduct a merging of the two data tables.\n",
    "\n",
    "Hint 2: Check how many rows are there in the math results dataset where the `max_points` is less than `points`. If yes, change the `max_points` to be equal to `points`.\n"
   ]
  },
  {
   "cell_type": "code",
   "execution_count": null,
   "metadata": {
    "vscode": {
     "languageId": "ruby"
    }
   },
   "outputs": [],
   "source": [
    "# Your code goes here"
   ]
  },
  {
   "cell_type": "markdown",
   "metadata": {},
   "source": [
    "### B) Perform a univariate analysis (including descriptive statistics and visualizations) for the four features (`average_point_math_absolute, average_point_math_relative, average_structure_coherence_absolute, average_structure_coherence_relative`) of your dataframe. Please check the lecture slides regarding information on how to perform a univariate analysis for categorical and numerical features. Discuss your results: how are the features distributed?"
   ]
  },
  {
   "cell_type": "code",
   "execution_count": null,
   "metadata": {},
   "outputs": [],
   "source": [
    "# Your code goes here"
   ]
  },
  {
   "cell_type": "markdown",
   "metadata": {},
   "source": [
    "Your explanation goes here"
   ]
  },
  {
   "cell_type": "markdown",
   "metadata": {},
   "source": [
    "### C) Come up with two additional features on your own, based on the two initial CSV files, and add them to the dataframe. Please provide an explanation/description of your features as well as an argument/hypothesis of why you think these features are interesting to explore."
   ]
  },
  {
   "cell_type": "code",
   "execution_count": null,
   "metadata": {},
   "outputs": [],
   "source": [
    "# Your code goes here"
   ]
  },
  {
   "cell_type": "markdown",
   "metadata": {},
   "source": [
    "Your explanation goes here"
   ]
  },
  {
   "cell_type": "markdown",
   "metadata": {},
   "source": [
    "### D) Perform a univariate analysis of your features (including descriptive statistics and visualization). What can you observe?"
   ]
  },
  {
   "cell_type": "code",
   "execution_count": null,
   "metadata": {},
   "outputs": [],
   "source": [
    "# Your code goes here"
   ]
  },
  {
   "cell_type": "markdown",
   "metadata": {},
   "source": [
    "Your explanation goes here"
   ]
  },
  {
   "cell_type": "markdown",
   "metadata": {},
   "source": [
    "### E) Perform a multivariate analysis for two pairs of features of your choice. Please provide a metric and a visualization for both pairs. Please discuss: why did you choose these two pairs? What was your hypothesis? Do the results confirm your hypothesis?"
   ]
  },
  {
   "cell_type": "code",
   "execution_count": null,
   "metadata": {},
   "outputs": [],
   "source": [
    "# Your code goes here"
   ]
  },
  {
   "cell_type": "markdown",
   "metadata": {},
   "source": [
    "Your explanation goes here"
   ]
  },
  {
   "cell_type": "markdown",
   "metadata": {},
   "source": [
    "## Task 3: Time-series analysis\n",
    "\n",
    "In this task, you will perform a time-series analysis."
   ]
  },
  {
   "cell_type": "markdown",
   "metadata": {},
   "source": [
    "### A) Build a dataframe containing one row per user **per day**:\n",
    "\n",
    "`[user_id, absolute_points, relative_points, day_index]`\n",
    "\n",
    "The features are defined as follows:\n",
    "\n",
    "- `user_id`: The ID of the user, with possible values equal to all the users found in the math results dataset.\n",
    "\n",
    "- `absolute_points`: The `points` for the user from the math results dataset.\n",
    "\n",
    "- `relative_points`: The relative points for the user from the math results dataset, that is, the values of `points / max_points`.\n",
    "\n",
    "- `day_index`: The index of the day of the submission. This should be a discrete version of the time of the submission, where the first day among the submission times of a user is 0, the second day is 1, and so on. If for one day there is no data point, you should ignore it and count the next upcoming day as the next time step. All times should be relative to the first submission time of the user."
   ]
  },
  {
   "cell_type": "code",
   "execution_count": null,
   "metadata": {},
   "outputs": [],
   "source": [
    "# Your code goes here"
   ]
  },
  {
   "cell_type": "markdown",
   "metadata": {},
   "source": [
    "### B) Select two features and analyze their behavior over time. Please provide a hypothesis and visualization for both features. For ideas on how to perform a time series exploration, please check the lecture slides and notebook. Discuss your results: what do you observe? Do the results confirm your hypotheses?"
   ]
  },
  {
   "cell_type": "code",
   "execution_count": null,
   "metadata": {},
   "outputs": [],
   "source": [
    "# Your code goes here"
   ]
  },
  {
   "cell_type": "markdown",
   "metadata": {},
   "source": [
    "Your explanation goes here"
   ]
  },
  {
   "cell_type": "markdown",
   "metadata": {},
   "source": [
    "## Task 4: Creative Extension"
   ]
  },
  {
   "cell_type": "markdown",
   "metadata": {},
   "source": [
    "### Please provide one new hypothesis you would like to explore with the data and provide a visualization for it. Discuss your results: what do you observe? Do the results confirm your hypotheses?"
   ]
  },
  {
   "cell_type": "code",
   "execution_count": null,
   "metadata": {},
   "outputs": [],
   "source": [
    "# Your code goes here"
   ]
  },
  {
   "cell_type": "markdown",
   "metadata": {},
   "source": [
    "Your explanation goes here"
   ]
  }
 ],
 "metadata": {
  "kernelspec": {
   "display_name": "mdev2",
   "language": "python",
   "name": "python3"
  },
  "language_info": {
   "codemirror_mode": {
    "name": "ipython",
    "version": 3
   },
   "file_extension": ".py",
   "mimetype": "text/x-python",
   "name": "python",
   "nbconvert_exporter": "python",
   "pygments_lexer": "ipython3",
   "version": "3.10.13"
  }
 },
 "nbformat": 4,
 "nbformat_minor": 2
}
